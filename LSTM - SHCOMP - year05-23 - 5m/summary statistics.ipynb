{
 "cells": [
  {
   "cell_type": "code",
   "execution_count": 11,
   "metadata": {},
   "outputs": [],
   "source": [
    "#import library\n",
    "import pandas as pd\n",
    "import numpy as np\n",
    "import statsmodels.api as sm"
   ]
  },
  {
   "cell_type": "code",
   "execution_count": 5,
   "metadata": {},
   "outputs": [
    {
     "data": {
      "text/html": [
       "<div>\n",
       "<style scoped>\n",
       "    .dataframe tbody tr th:only-of-type {\n",
       "        vertical-align: middle;\n",
       "    }\n",
       "\n",
       "    .dataframe tbody tr th {\n",
       "        vertical-align: top;\n",
       "    }\n",
       "\n",
       "    .dataframe thead th {\n",
       "        text-align: right;\n",
       "    }\n",
       "</style>\n",
       "<table border=\"1\" class=\"dataframe\">\n",
       "  <thead>\n",
       "    <tr style=\"text-align: right;\">\n",
       "      <th></th>\n",
       "      <th>Realized Volatility</th>\n",
       "      <th>Constant</th>\n",
       "      <th>RV_lag1</th>\n",
       "      <th>5MA_RV</th>\n",
       "      <th>22MA_RV</th>\n",
       "      <th>Abs_Bias</th>\n",
       "      <th>squared_pct_chg</th>\n",
       "      <th>abs_overnight_info</th>\n",
       "    </tr>\n",
       "    <tr>\n",
       "      <th>Date</th>\n",
       "      <th></th>\n",
       "      <th></th>\n",
       "      <th></th>\n",
       "      <th></th>\n",
       "      <th></th>\n",
       "      <th></th>\n",
       "      <th></th>\n",
       "      <th></th>\n",
       "    </tr>\n",
       "  </thead>\n",
       "  <tbody>\n",
       "    <tr>\n",
       "      <th>2005-02-03</th>\n",
       "      <td>3.711811</td>\n",
       "      <td>1</td>\n",
       "      <td>3.041918</td>\n",
       "      <td>1.114210</td>\n",
       "      <td>0.943433</td>\n",
       "      <td>0.030942</td>\n",
       "      <td>28.587201</td>\n",
       "      <td>0.001048</td>\n",
       "    </tr>\n",
       "    <tr>\n",
       "      <th>2005-02-04</th>\n",
       "      <td>1.455927</td>\n",
       "      <td>1</td>\n",
       "      <td>3.711811</td>\n",
       "      <td>1.766252</td>\n",
       "      <td>1.082825</td>\n",
       "      <td>0.020110</td>\n",
       "      <td>0.662270</td>\n",
       "      <td>0.002981</td>\n",
       "    </tr>\n",
       "    <tr>\n",
       "      <th>2005-02-16</th>\n",
       "      <td>1.203328</td>\n",
       "      <td>1</td>\n",
       "      <td>1.455927</td>\n",
       "      <td>1.968796</td>\n",
       "      <td>1.090226</td>\n",
       "      <td>0.032456</td>\n",
       "      <td>4.618201</td>\n",
       "      <td>0.005510</td>\n",
       "    </tr>\n",
       "    <tr>\n",
       "      <th>2005-02-17</th>\n",
       "      <td>0.737522</td>\n",
       "      <td>1</td>\n",
       "      <td>1.203328</td>\n",
       "      <td>2.064023</td>\n",
       "      <td>1.122296</td>\n",
       "      <td>0.026108</td>\n",
       "      <td>0.605595</td>\n",
       "      <td>0.000897</td>\n",
       "    </tr>\n",
       "    <tr>\n",
       "      <th>2005-02-18</th>\n",
       "      <td>0.478975</td>\n",
       "      <td>1</td>\n",
       "      <td>0.737522</td>\n",
       "      <td>2.030101</td>\n",
       "      <td>1.104006</td>\n",
       "      <td>0.009802</td>\n",
       "      <td>0.046096</td>\n",
       "      <td>0.000368</td>\n",
       "    </tr>\n",
       "  </tbody>\n",
       "</table>\n",
       "</div>"
      ],
      "text/plain": [
       "            Realized Volatility  Constant   RV_lag1    5MA_RV   22MA_RV  \\\n",
       "Date                                                                      \n",
       "2005-02-03             3.711811         1  3.041918  1.114210  0.943433   \n",
       "2005-02-04             1.455927         1  3.711811  1.766252  1.082825   \n",
       "2005-02-16             1.203328         1  1.455927  1.968796  1.090226   \n",
       "2005-02-17             0.737522         1  1.203328  2.064023  1.122296   \n",
       "2005-02-18             0.478975         1  0.737522  2.030101  1.104006   \n",
       "\n",
       "            Abs_Bias  squared_pct_chg  abs_overnight_info  \n",
       "Date                                                       \n",
       "2005-02-03  0.030942        28.587201            0.001048  \n",
       "2005-02-04  0.020110         0.662270            0.002981  \n",
       "2005-02-16  0.032456         4.618201            0.005510  \n",
       "2005-02-17  0.026108         0.605595            0.000897  \n",
       "2005-02-18  0.009802         0.046096            0.000368  "
      ]
     },
     "execution_count": 5,
     "metadata": {},
     "output_type": "execute_result"
    }
   ],
   "source": [
    "df_data_set = pd.read_csv('Data/shcmp multi variable for HAR.csv')\n",
    "\n",
    "df_data_set.set_index('Date', inplace=True)\n",
    "\n",
    "df_data_set.head(5)"
   ]
  },
  {
   "cell_type": "code",
   "execution_count": 3,
   "metadata": {},
   "outputs": [],
   "source": [
    "series = np.array(df_data_set['Realized Volatility'])"
   ]
  },
  {
   "cell_type": "code",
   "execution_count": 6,
   "metadata": {},
   "outputs": [],
   "source": [
    "X = df_data_set.drop('Realized Volatility',1)\n",
    "Y = df_data_set['Realized Volatility']"
   ]
  },
  {
   "cell_type": "code",
   "execution_count": 12,
   "metadata": {},
   "outputs": [
    {
     "data": {
      "text/html": [
       "<table class=\"simpletable\">\n",
       "<caption>OLS Regression Results</caption>\n",
       "<tr>\n",
       "  <th>Dep. Variable:</th>    <td>Realized Volatility</td> <th>  R-squared:         </th> <td>   0.590</td> \n",
       "</tr>\n",
       "<tr>\n",
       "  <th>Model:</th>                    <td>OLS</td>         <th>  Adj. R-squared:    </th> <td>   0.589</td> \n",
       "</tr>\n",
       "<tr>\n",
       "  <th>Method:</th>              <td>Least Squares</td>    <th>  F-statistic:       </th> <td>   1050.</td> \n",
       "</tr>\n",
       "<tr>\n",
       "  <th>Date:</th>              <td>Tue, 04 Apr 2023</td>   <th>  Prob (F-statistic):</th>  <td>  0.00</td>  \n",
       "</tr>\n",
       "<tr>\n",
       "  <th>Time:</th>                  <td>21:47:02</td>       <th>  Log-Likelihood:    </th> <td> -8512.5</td> \n",
       "</tr>\n",
       "<tr>\n",
       "  <th>No. Observations:</th>       <td>  4388</td>        <th>  AIC:               </th> <td>1.704e+04</td>\n",
       "</tr>\n",
       "<tr>\n",
       "  <th>Df Residuals:</th>           <td>  4381</td>        <th>  BIC:               </th> <td>1.708e+04</td>\n",
       "</tr>\n",
       "<tr>\n",
       "  <th>Df Model:</th>               <td>     6</td>        <th>                     </th>     <td> </td>    \n",
       "</tr>\n",
       "<tr>\n",
       "  <th>Covariance Type:</th>       <td>nonrobust</td>      <th>                     </th>     <td> </td>    \n",
       "</tr>\n",
       "</table>\n",
       "<table class=\"simpletable\">\n",
       "<tr>\n",
       "           <td></td>             <th>coef</th>     <th>std err</th>      <th>t</th>      <th>P>|t|</th>  <th>[0.025</th>    <th>0.975]</th>  \n",
       "</tr>\n",
       "<tr>\n",
       "  <th>Constant</th>           <td>   -0.1666</td> <td>    0.040</td> <td>   -4.125</td> <td> 0.000</td> <td>   -0.246</td> <td>   -0.087</td>\n",
       "</tr>\n",
       "<tr>\n",
       "  <th>RV_lag1</th>            <td>    0.2307</td> <td>    0.017</td> <td>   13.638</td> <td> 0.000</td> <td>    0.197</td> <td>    0.264</td>\n",
       "</tr>\n",
       "<tr>\n",
       "  <th>5MA_RV</th>             <td>    0.2701</td> <td>    0.027</td> <td>   10.179</td> <td> 0.000</td> <td>    0.218</td> <td>    0.322</td>\n",
       "</tr>\n",
       "<tr>\n",
       "  <th>22MA_RV</th>            <td>    0.1737</td> <td>    0.025</td> <td>    7.009</td> <td> 0.000</td> <td>    0.125</td> <td>    0.222</td>\n",
       "</tr>\n",
       "<tr>\n",
       "  <th>Abs_Bias</th>           <td>   29.0189</td> <td>    2.903</td> <td>    9.997</td> <td> 0.000</td> <td>   23.328</td> <td>   34.710</td>\n",
       "</tr>\n",
       "<tr>\n",
       "  <th>squared_pct_chg</th>    <td>    0.0870</td> <td>    0.005</td> <td>   16.179</td> <td> 0.000</td> <td>    0.076</td> <td>    0.098</td>\n",
       "</tr>\n",
       "<tr>\n",
       "  <th>abs_overnight_info</th> <td>   29.7835</td> <td>    4.858</td> <td>    6.131</td> <td> 0.000</td> <td>   20.260</td> <td>   39.307</td>\n",
       "</tr>\n",
       "</table>\n",
       "<table class=\"simpletable\">\n",
       "<tr>\n",
       "  <th>Omnibus:</th>       <td>4565.856</td> <th>  Durbin-Watson:     </th>  <td>   2.010</td> \n",
       "</tr>\n",
       "<tr>\n",
       "  <th>Prob(Omnibus):</th>  <td> 0.000</td>  <th>  Jarque-Bera (JB):  </th> <td>514406.686</td>\n",
       "</tr>\n",
       "<tr>\n",
       "  <th>Skew:</th>           <td> 4.955</td>  <th>  Prob(JB):          </th>  <td>    0.00</td> \n",
       "</tr>\n",
       "<tr>\n",
       "  <th>Kurtosis:</th>       <td>55.109</td>  <th>  Cond. No.          </th>  <td>1.38e+03</td> \n",
       "</tr>\n",
       "</table><br/><br/>Notes:<br/>[1] Standard Errors assume that the covariance matrix of the errors is correctly specified.<br/>[2] The condition number is large, 1.38e+03. This might indicate that there are<br/>strong multicollinearity or other numerical problems."
      ],
      "text/plain": [
       "<class 'statsmodels.iolib.summary.Summary'>\n",
       "\"\"\"\n",
       "                             OLS Regression Results                            \n",
       "===============================================================================\n",
       "Dep. Variable:     Realized Volatility   R-squared:                       0.590\n",
       "Model:                             OLS   Adj. R-squared:                  0.589\n",
       "Method:                  Least Squares   F-statistic:                     1050.\n",
       "Date:                 Tue, 04 Apr 2023   Prob (F-statistic):               0.00\n",
       "Time:                         21:47:02   Log-Likelihood:                -8512.5\n",
       "No. Observations:                 4388   AIC:                         1.704e+04\n",
       "Df Residuals:                     4381   BIC:                         1.708e+04\n",
       "Df Model:                            6                                         \n",
       "Covariance Type:             nonrobust                                         \n",
       "======================================================================================\n",
       "                         coef    std err          t      P>|t|      [0.025      0.975]\n",
       "--------------------------------------------------------------------------------------\n",
       "Constant              -0.1666      0.040     -4.125      0.000      -0.246      -0.087\n",
       "RV_lag1                0.2307      0.017     13.638      0.000       0.197       0.264\n",
       "5MA_RV                 0.2701      0.027     10.179      0.000       0.218       0.322\n",
       "22MA_RV                0.1737      0.025      7.009      0.000       0.125       0.222\n",
       "Abs_Bias              29.0189      2.903      9.997      0.000      23.328      34.710\n",
       "squared_pct_chg        0.0870      0.005     16.179      0.000       0.076       0.098\n",
       "abs_overnight_info    29.7835      4.858      6.131      0.000      20.260      39.307\n",
       "==============================================================================\n",
       "Omnibus:                     4565.856   Durbin-Watson:                   2.010\n",
       "Prob(Omnibus):                  0.000   Jarque-Bera (JB):           514406.686\n",
       "Skew:                           4.955   Prob(JB):                         0.00\n",
       "Kurtosis:                      55.109   Cond. No.                     1.38e+03\n",
       "==============================================================================\n",
       "\n",
       "Notes:\n",
       "[1] Standard Errors assume that the covariance matrix of the errors is correctly specified.\n",
       "[2] The condition number is large, 1.38e+03. This might indicate that there are\n",
       "strong multicollinearity or other numerical problems.\n",
       "\"\"\""
      ]
     },
     "execution_count": 12,
     "metadata": {},
     "output_type": "execute_result"
    }
   ],
   "source": [
    "# Start Linear regression\n",
    "mod = sm.OLS(Y,X)\n",
    "res = mod.fit()\n",
    "res.summary()"
   ]
  },
  {
   "cell_type": "code",
   "execution_count": 19,
   "metadata": {},
   "outputs": [
    {
     "data": {
      "text/plain": [
       "Realized Volatility    0.039692\n",
       "Constant               0.000000\n",
       "RV_lag1                0.039693\n",
       "5MA_RV                 0.032858\n",
       "22MA_RV                0.027774\n",
       "Abs_Bias               0.000180\n",
       "squared_pct_chg        0.093114\n",
       "abs_overnight_info     0.000088\n",
       "dtype: float64"
      ]
     },
     "execution_count": 19,
     "metadata": {},
     "output_type": "execute_result"
    }
   ],
   "source": [
    "df_data_set.sem()"
   ]
  },
  {
   "cell_type": "code",
   "execution_count": 20,
   "metadata": {},
   "outputs": [
    {
     "data": {
      "text/plain": [
       "1.5646272981042935"
      ]
     },
     "execution_count": 20,
     "metadata": {},
     "output_type": "execute_result"
    }
   ],
   "source": [
    "Y.mean()"
   ]
  },
  {
   "cell_type": "code",
   "execution_count": 21,
   "metadata": {},
   "outputs": [],
   "source": [
    "from statsmodels.stats.diagnostic import acorr_ljungbox"
   ]
  },
  {
   "cell_type": "code",
   "execution_count": 24,
   "metadata": {},
   "outputs": [
    {
     "name": "stderr",
     "output_type": "stream",
     "text": [
      "c:\\Users\\waibo\\AppData\\Local\\Programs\\Python\\Python36\\lib\\site-packages\\statsmodels\\stats\\diagnostic.py:559: FutureWarning: The value returned will change to a single DataFrame after 0.12 is released.  Set return_df to True to use to return a DataFrame now.  Set return_df to False to silence this warning.\n",
      "  warnings.warn(msg, FutureWarning)\n"
     ]
    }
   ],
   "source": [
    "Q = acorr_ljungbox(Y,lags=20)"
   ]
  },
  {
   "cell_type": "code",
   "execution_count": 30,
   "metadata": {},
   "outputs": [
    {
     "data": {
      "text/plain": [
       "(7059.763497549808, 10613.770327657432, 13695.300794681596, 17289.56130891683)"
      ]
     },
     "execution_count": 30,
     "metadata": {},
     "output_type": "execute_result"
    }
   ],
   "source": [
    "Q[0][4],Q[0][9],Q[0][14],Q[0][19]"
   ]
  },
  {
   "cell_type": "code",
   "execution_count": 29,
   "metadata": {},
   "outputs": [
    {
     "data": {
      "text/plain": [
       "2"
      ]
     },
     "execution_count": 29,
     "metadata": {},
     "output_type": "execute_result"
    }
   ],
   "source": [
    "len(Q)"
   ]
  },
  {
   "cell_type": "code",
   "execution_count": null,
   "metadata": {},
   "outputs": [],
   "source": []
  }
 ],
 "metadata": {
  "kernelspec": {
   "display_name": "Python 3",
   "language": "python",
   "name": "python3"
  },
  "language_info": {
   "codemirror_mode": {
    "name": "ipython",
    "version": 3
   },
   "file_extension": ".py",
   "mimetype": "text/x-python",
   "name": "python",
   "nbconvert_exporter": "python",
   "pygments_lexer": "ipython3",
   "version": "3.6.2"
  },
  "orig_nbformat": 4
 },
 "nbformat": 4,
 "nbformat_minor": 2
}
